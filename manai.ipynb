{
  "cells": [
    {
      "cell_type": "code",
      "source": [
        "import os"
      ],
      "metadata": {
        "id": "6xXNb6PROVHf"
      },
      "id": "6xXNb6PROVHf",
      "execution_count": 1,
      "outputs": []
    },
    {
      "cell_type": "code",
      "source": [],
      "metadata": {
        "id": "wwIOQxgvPOAs"
      },
      "id": "wwIOQxgvPOAs",
      "execution_count": null,
      "outputs": []
    },
    {
      "cell_type": "code",
      "source": [
        "print(\"hello world\")"
      ],
      "metadata": {
        "id": "K4yRxRh8OWKi",
        "outputId": "a419d644-e791-4eb6-ffb3-954ae4210681",
        "colab": {
          "base_uri": "https://localhost:8080/"
        }
      },
      "id": "K4yRxRh8OWKi",
      "execution_count": 10,
      "outputs": [
        {
          "output_type": "stream",
          "name": "stdout",
          "text": [
            "hello world\n"
          ]
        }
      ]
    },
    {
      "cell_type": "code",
      "source": [],
      "metadata": {
        "id": "YAkV49s7PBOL"
      },
      "id": "YAkV49s7PBOL",
      "execution_count": null,
      "outputs": []
    }
  ],
  "metadata": {
    "language_info": {
      "name": "python"
    },
    "colab": {
      "provenance": []
    },
    "kernelspec": {
      "name": "python3",
      "display_name": "Python 3"
    }
  },
  "nbformat": 4,
  "nbformat_minor": 5
}